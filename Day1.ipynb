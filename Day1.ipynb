{
 "cells": [
  {
   "cell_type": "markdown",
   "metadata": {},
   "source": [
    "<h1 style=\"color:orange;text-align:center;\">DAY 1</h1>"
   ]
  },
  {
   "cell_type": "code",
   "execution_count": 10,
   "metadata": {},
   "outputs": [],
   "source": [
    "n = int(input())\n",
    "x = input()\n",
    "x = list(map(int, x.split()))\n",
    "y = int(input())\n",
    "def two_sum(x, y):\n",
    "    nums = {}\n",
    "    for i, n in enumerate(x):\n",
    "        diff = y - n\n",
    "        if diff in nums:\n",
    "            return nums[diff], i\n",
    "        nums[n] = i\n",
    "    return None\n",
    "ans = two_sum(x, y)\n",
    "if ans!=None:\n",
    "    print(str(ans[0])+' '+str(ans[1]))"
   ]
  },
  {
   "cell_type": "code",
   "execution_count": 19,
   "metadata": {},
   "outputs": [
    {
     "name": "stdout",
     "output_type": "stream",
     "text": [
      "7\n"
     ]
    }
   ],
   "source": [
    "# subarray sum\n",
    "que = int(input())\n",
    "arr = list(map(int,(input().split())))\n",
    "def maximumSubArray(arr):\n",
    "    if not arr:\n",
    "        return 0\n",
    "    cur_sum = arr[0]\n",
    "    max_sum = arr[0]\n",
    "    for i in range(1,que):\n",
    "        cur_sum = max(arr[i],cur_sum+arr[i])\n",
    "        max_sum = max(max_sum,cur_sum)\n",
    "    return max_sum\n",
    "print(maximumSubArray(arr))   "
   ]
  },
  {
   "cell_type": "code",
   "execution_count": 58,
   "metadata": {},
   "outputs": [
    {
     "name": "stdout",
     "output_type": "stream",
     "text": [
      "1\n"
     ]
    }
   ],
   "source": [
    "# GCD of an array\n",
    "size = int(input())\n",
    "arr = list(map(int,input().split()))\n",
    "arr.sort(reverse=True)\n",
    "def gcd_two(a,b):\n",
    "    r = b\n",
    "    while(a%r!=0):\n",
    "        r = a%r\n",
    "    return r\n",
    "\n",
    "def gcd(arr):\n",
    "    res = arr[0]\n",
    "    for i in range(1,size):\n",
    "        res = gcd_two(res,arr[i])\n",
    "    return res\n",
    "\n",
    "print(gcd(arr))"
   ]
  },
  {
   "cell_type": "code",
   "execution_count": null,
   "metadata": {},
   "outputs": [
    {
     "ename": "IndexError",
     "evalue": "list index out of range",
     "output_type": "error",
     "traceback": [
      "\u001b[1;31m---------------------------------------------------------------------------\u001b[0m",
      "\u001b[1;31mIndexError\u001b[0m                                Traceback (most recent call last)",
      "Cell \u001b[1;32mIn[75], line 18\u001b[0m\n\u001b[0;32m     15\u001b[0m             count\u001b[38;5;241m.\u001b[39mappend(\u001b[38;5;28mlen\u001b[39m(pre[i]))\n\u001b[0;32m     16\u001b[0m     \u001b[38;5;28;01mreturn\u001b[39;00m pre[\u001b[38;5;28mmax\u001b[39m(count)]\n\u001b[1;32m---> 18\u001b[0m \u001b[38;5;28mprint\u001b[39m(\u001b[43mmaxString\u001b[49m\u001b[43m(\u001b[49m\u001b[43mst\u001b[49m\u001b[43m)\u001b[49m)\n\u001b[0;32m     19\u001b[0m \u001b[38;5;28mprint\u001b[39m(st)\n\u001b[0;32m     20\u001b[0m \u001b[38;5;28mprint\u001b[39m(pre)\n",
      "Cell \u001b[1;32mIn[75], line 16\u001b[0m, in \u001b[0;36mmaxString\u001b[1;34m(st)\u001b[0m\n\u001b[0;32m     14\u001b[0m     \u001b[38;5;28;01mif\u001b[39;00m pre[i]\u001b[38;5;241m==\u001b[39msuf[i]:\n\u001b[0;32m     15\u001b[0m         count\u001b[38;5;241m.\u001b[39mappend(\u001b[38;5;28mlen\u001b[39m(pre[i]))\n\u001b[1;32m---> 16\u001b[0m \u001b[38;5;28;01mreturn\u001b[39;00m \u001b[43mpre\u001b[49m\u001b[43m[\u001b[49m\u001b[38;5;28;43mmax\u001b[39;49m\u001b[43m(\u001b[49m\u001b[43mcount\u001b[49m\u001b[43m)\u001b[49m\u001b[43m]\u001b[49m\n",
      "\u001b[1;31mIndexError\u001b[0m: list index out of range"
     ]
    }
   ],
   "source": [
    "# longest happy prefix\n",
    "st = input()\n",
    "pre = []\n",
    "suf = []\n",
    "count = []\n",
    "for i in range(len(st)-1):\n",
    "    pre.append(st[0:i+1])\n",
    "    suf.append(st[-1:-(len(st)-i):-1])\n",
    "\n",
    "suf.reverse()\n",
    "\n",
    "def maxString(st):\n",
    "    for i in range(0,len(st)-1):\n",
    "        if pre[i]==suf[i]:\n",
    "            count.append(len(pre[i]))\n",
    "    return pre[max(count)]\n",
    "\n",
    "# print(maxString(st))\n",
    "print(st)\n",
    "print(pre)\n",
    "print(suf)"
   ]
  }
 ],
 "metadata": {
  "kernelspec": {
   "display_name": "Python 3",
   "language": "python",
   "name": "python3"
  },
  "language_info": {
   "codemirror_mode": {
    "name": "ipython",
    "version": 3
   },
   "file_extension": ".py",
   "mimetype": "text/x-python",
   "name": "python",
   "nbconvert_exporter": "python",
   "pygments_lexer": "ipython3",
   "version": "3.10.11"
  }
 },
 "nbformat": 4,
 "nbformat_minor": 2
}
