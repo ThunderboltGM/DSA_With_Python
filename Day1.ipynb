{
 "cells": [
  {
   "cell_type": "markdown",
   "metadata": {},
   "source": [
    "<h1 style=\"color:orange;text-align:center;\">DAY 1</h1>"
   ]
  },
  {
   "cell_type": "code",
   "execution_count": 10,
   "metadata": {},
   "outputs": [],
   "source": [
    "n = int(input())\n",
    "x = input()\n",
    "x = list(map(int, x.split()))\n",
    "y = int(input())\n",
    "def two_sum(x, y):\n",
    "    nums = {}\n",
    "    for i, n in enumerate(x):\n",
    "        diff = y - n\n",
    "        if diff in nums:\n",
    "            return nums[diff], i\n",
    "        nums[n] = i\n",
    "    return None\n",
    "ans = two_sum(x, y)\n",
    "if ans!=None:\n",
    "    print(str(ans[0])+' '+str(ans[1]))"
   ]
  }
 ],
 "metadata": {
  "kernelspec": {
   "display_name": "Python 3",
   "language": "python",
   "name": "python3"
  },
  "language_info": {
   "codemirror_mode": {
    "name": "ipython",
    "version": 3
   },
   "file_extension": ".py",
   "mimetype": "text/x-python",
   "name": "python",
   "nbconvert_exporter": "python",
   "pygments_lexer": "ipython3",
   "version": "3.10.11"
  }
 },
 "nbformat": 4,
 "nbformat_minor": 2
}
