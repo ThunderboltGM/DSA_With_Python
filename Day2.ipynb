{
 "cells": [
  {
   "cell_type": "markdown",
   "id": "17136020",
   "metadata": {},
   "source": [
    "<h1 style=\"color:orange;text-align:center;\">DAY 2</h1>"
   ]
  },
  {
   "cell_type": "code",
   "execution_count": 8,
   "id": "c65bd148",
   "metadata": {},
   "outputs": [
    {
     "name": "stdout",
     "output_type": "stream",
     "text": [
      "[1, 2, 3, 4, 5, 6, 7, 8, 9, 10]\n",
      "4\n",
      "element found at  3\n"
     ]
    }
   ],
   "source": [
    "# binary search\n",
    "que = int(input())\n",
    "arr = list(map(int,input().split()))\n",
    "target = int(input())\n",
    "arr.sort()\n",
    "print(arr)\n",
    "low = 0\n",
    "high = len(arr)-1\n",
    "print(target)\n",
    "\n",
    "def binarySearch(arr,high,low,target):\n",
    "    while low<=high:\n",
    "        mid = (low+high)//2\n",
    "        if target==arr[mid]:\n",
    "            return mid\n",
    "        elif target<arr[mid]:\n",
    "            high = mid-1\n",
    "        elif target>arr[mid]:\n",
    "            low = mid+1\n",
    "        else:\n",
    "            print('target not found in the array')\n",
    "            return -1\n",
    "\n",
    "print('element found at ',binarySearch(arr,high,low,target))"
   ]
  }
 ],
 "metadata": {
  "kernelspec": {
   "display_name": "Python 3",
   "language": "python",
   "name": "python3"
  },
  "language_info": {
   "codemirror_mode": {
    "name": "ipython",
    "version": 3
   },
   "file_extension": ".py",
   "mimetype": "text/x-python",
   "name": "python",
   "nbconvert_exporter": "python",
   "pygments_lexer": "ipython3",
   "version": "3.10.11"
  }
 },
 "nbformat": 4,
 "nbformat_minor": 5
}
